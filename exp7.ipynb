{
  "nbformat": 4,
  "nbformat_minor": 0,
  "metadata": {
    "colab": {
      "provenance": []
    },
    "kernelspec": {
      "name": "python3",
      "display_name": "Python 3"
    },
    "language_info": {
      "name": "python"
    }
  },
  "cells": [
    {
      "cell_type": "code",
      "source": [
        "import os\n",
        "import io\n",
        "from PIL import Image\n",
        "import base64\n",
        "from dotenv import load_dotenv, find_dotenv\n",
        "import requests\n",
        "import json\n",
        "import gradio as gr\n",
        "\n",
        "# Load API key from environment variables\n",
        "_ = load_dotenv(find_dotenv())\n",
        "hf_api_key = os.environ['HF_API_KEY']\n",
        "\n",
        "# Helper function to interact with Hugging Face API\n",
        "def get_completion(inputs, parameters=None, ENDPOINT_URL=os.environ['HF_API_TTI_BASE']):\n",
        "    headers = {\n",
        "        \"Authorization\": f\"Bearer {hf_api_key}\",\n",
        "        \"Content-Type\": \"application/json\"\n",
        "    }\n",
        "    data = {\"inputs\": inputs}\n",
        "    if parameters is not None:\n",
        "        data.update({\"parameters\": parameters})\n",
        "    response = requests.request(\"POST\", ENDPOINT_URL, headers=headers, data=json.dumps(data))\n",
        "    return json.loads(response.content.decode(\"utf-8\"))\n",
        "\n",
        "# Convert base64-encoded string to PIL Image\n",
        "def base64_to_pil(img_base64):\n",
        "    base64_decoded = base64.b64decode(img_base64)\n",
        "    byte_stream = io.BytesIO(base64_decoded)\n",
        "    pil_image = Image.open(byte_stream)\n",
        "    return pil_image\n",
        "\n",
        "# Gradio generation function\n",
        "def generate(prompt):\n",
        "    output = get_completion(prompt)  # Get image data from API\n",
        "    result_image = base64_to_pil(output[\"data\"][0][\"base64\"])  # Convert to PIL Image\n",
        "    return result_image\n",
        "\n",
        "# Gradio interface\n",
        "gr.close_all()\n",
        "demo = gr.Interface(\n",
        "    fn=generate,\n",
        "    inputs=[gr.Textbox(label=\"Your prompt\")],\n",
        "    outputs=[gr.Image(label=\"Result\")],\n",
        "    title=\"Image Generation with Stable Diffusion\",\n",
        "    description=\"Generate any image with Stable Diffusion\",\n",
        "    allow_flagging=\"never\",\n",
        "    examples=[\"the spirit of a tamagotchi wandering in the city of Vienna\", \"a mecha robot in a favela\"]\n",
        ")\n",
        "\n",
        "# Launch Gradio app\n",
        "demo.launch()\n"
      ],
      "metadata": {
        "id": "zVSg94ZGuH4I",
        "outputId": "8a0803c5-7340-4480-ffbb-d928ec8f4c29",
        "colab": {
          "base_uri": "https://localhost:8080/",
          "height": 837
        }
      },
      "execution_count": 21,
      "outputs": [
        {
          "output_type": "stream",
          "name": "stdout",
          "text": [
            "Closing server running on port: 7860\n",
            "Closing server running on port: 7860\n",
            "Closing server running on port: 7860\n",
            "Closing server running on port: 7862\n",
            "Closing server running on port: 7861\n",
            "Closing server running on port: 7860\n",
            "Closing server running on port: 7860\n",
            "Closing server running on port: 7861\n",
            "Closing server running on port: 7860\n"
          ]
        },
        {
          "output_type": "stream",
          "name": "stderr",
          "text": [
            "/usr/local/lib/python3.11/dist-packages/gradio/interface.py:415: UserWarning: The `allow_flagging` parameter in `Interface` is deprecated.Use `flagging_mode` instead.\n",
            "  warnings.warn(\n"
          ]
        },
        {
          "output_type": "stream",
          "name": "stdout",
          "text": [
            "It looks like you are running Gradio on a hosted a Jupyter notebook. For the Gradio app to work, sharing must be enabled. Automatically setting `share=True` (you can turn this off by setting `share=False` in `launch()` explicitly).\n",
            "\n",
            "Colab notebook detected. To show errors in colab notebook, set debug=True in launch()\n",
            "* Running on public URL: https://7e5f3680ac985034c2.gradio.live\n",
            "\n",
            "This share link expires in 1 week. For free permanent hosting and GPU upgrades, run `gradio deploy` from the terminal in the working directory to deploy to Hugging Face Spaces (https://huggingface.co/spaces)\n"
          ]
        },
        {
          "output_type": "display_data",
          "data": {
            "text/plain": [
              "<IPython.core.display.HTML object>"
            ],
            "text/html": [
              "<div><iframe src=\"https://7e5f3680ac985034c2.gradio.live\" width=\"100%\" height=\"500\" allow=\"autoplay; camera; microphone; clipboard-read; clipboard-write;\" frameborder=\"0\" allowfullscreen></iframe></div>"
            ]
          },
          "metadata": {}
        },
        {
          "output_type": "execute_result",
          "data": {
            "text/plain": []
          },
          "metadata": {},
          "execution_count": 21
        }
      ]
    }
  ]
}